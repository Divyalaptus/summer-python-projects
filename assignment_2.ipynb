{
 "cells": [
  {
   "cell_type": "code",
   "execution_count": 1,
   "metadata": {},
   "outputs": [
    {
     "name": "stdout",
     "output_type": "stream",
     "text": [
      "The mean is 0.557896\n"
     ]
    }
   ],
   "source": [
    "import numpy as np\n",
    "# Question 1\n",
    "a = np.random.rand(10,1)\n",
    "print(\"The mean is %f\" %a.mean())\n"
   ]
  },
  {
   "cell_type": "code",
   "execution_count": 2,
   "metadata": {},
   "outputs": [
    {
     "name": "stdout",
     "output_type": "stream",
     "text": [
      "The variance is 0.083464\n",
      "The Standard deviation is 0.288901\n"
     ]
    }
   ],
   "source": [
    "# Question 2\n",
    "a = np.random.rand(20,1)\n",
    "print(\"The variance is %f\" %a.var())\n",
    "print(\"The Standard deviation is %f\"%a.std())"
   ]
  },
  {
   "cell_type": "code",
   "execution_count": 3,
   "metadata": {},
   "outputs": [
    {
     "name": "stdout",
     "output_type": "stream",
     "text": [
      "The matrix multiplication of matrix a and matrix b is: \n",
      "[[ 4.05753904  4.13915417  4.81259322  3.92663242  4.3402027   6.38748302\n",
      "   4.50335522  4.06445364  4.40812226  4.15138674  4.29583765  3.42305089\n",
      "   4.47280199  3.17862176  4.26403397  4.35757112  4.75343077  4.64908472\n",
      "   4.52859021  5.25688259  5.0187105   4.00708794  4.94858819  4.42608318\n",
      "   4.49210792]\n",
      " [ 3.89168666  4.4505259   4.08639292  4.4280211   3.96855997  5.24275132\n",
      "   5.0885596   3.67547078  4.19492495  2.86987487  3.27657926  3.35601032\n",
      "   3.95422675  3.25566161  3.91599848  3.71977162  4.33676083  4.92094965\n",
      "   3.40770787  4.63797716  4.13683869  3.44598406  4.33375749  3.94164576\n",
      "   4.19939869]\n",
      " [ 3.46752409  4.86021691  5.62281024  4.04339772  4.85032581  7.02694329\n",
      "   4.78124381  4.41282588  3.95632302  4.60841382  4.85817285  4.83494496\n",
      "   5.50856947  4.04585679  4.64929209  5.10526166  5.15043667  5.11243161\n",
      "   5.46321861  5.3887615   4.5872422   3.97889429  5.6208164   4.95202905\n",
      "   4.81458909]\n",
      " [ 4.73150982  5.14457202  5.22574875  5.24668875  5.32667111  6.69497482\n",
      "   5.86660955  4.97892829  5.64162699  4.71972694  5.34978392  4.73529567\n",
      "   5.20210643  4.37538314  4.22888115  5.98063773  5.84399468  6.08055007\n",
      "   6.18743572  5.89676993  5.45635587  5.6658772   6.05346212  5.98674267\n",
      "   5.72302837]\n",
      " [ 5.18421343  5.10611904  5.3195555   5.2962031   5.1298163   7.57443279\n",
      "   5.82395609  5.13697991  5.47737453  3.92805991  5.16572563  5.00521189\n",
      "   5.06200955  4.4295916   5.04231034  5.27116211  6.36609631  4.74275338\n",
      "   5.24392861  5.43880442  5.12245869  3.86340977  5.99803003  3.90178896\n",
      "   5.51919974]\n",
      " [ 5.46836989  5.04534441  4.85554279  5.4710375   4.98696489  6.38300582\n",
      "   5.89191372  4.58056406  5.08309793  3.82807301  3.93410284  4.3933384\n",
      "   4.75510216  3.99258707  4.34546061  5.19400889  5.50820666  6.02632376\n",
      "   4.72726766  5.85177437  5.19625303  4.81002929  5.26299976  4.7161686\n",
      "   4.75183778]\n",
      " [ 5.02854058  5.6611036   6.1453887   5.30730774  5.64956323  7.13560477\n",
      "   5.60524589  4.76228036  5.28798328  4.93590208  4.7861213   5.50013606\n",
      "   5.5678474   4.29346258  5.73803661  6.31326328  5.45332686  7.01917509\n",
      "   5.97875738  6.31417564  5.5338358   5.59657176  5.81514725  5.38928805\n",
      "   5.53830266]\n",
      " [ 4.72146701  6.0343929   4.67615049  5.11305496  5.2689699   7.38710083\n",
      "   6.04043816  3.99900565  5.1723498   4.37368235  4.91690678  4.00686557\n",
      "   4.55468775  4.05305399  4.23730781  4.7708491   6.13083071  5.76164454\n",
      "   5.43673519  5.87832367  5.30169018  5.08006078  6.7809323   4.72507816\n",
      "   4.84836449]\n",
      " [ 4.49896     5.03933465  4.23659296  4.57252919  4.77809086  5.432436\n",
      "   5.71623577  4.15842238  4.69495381  3.2903668   3.71657841  3.76832289\n",
      "   4.19579861  4.07897474  4.43593817  4.47446047  4.85606196  5.371985\n",
      "   4.31322332  5.31713044  4.42949212  4.39174252  4.57109235  4.34366442\n",
      "   4.13110969]\n",
      " [ 3.5485672   4.70335237  4.84257705  4.00253432  3.69108457  5.62555945\n",
      "   4.91066482  3.7956591   4.03423786  3.55399206  3.892137    3.86487779\n",
      "   4.76492057  3.02836747  4.1544582   4.68524038  3.88357243  4.66440081\n",
      "   4.66172031  4.96410198  4.00280608  3.95525865  4.72283484  4.2628406\n",
      "   3.73641144]]\n",
      "The product matrix is of shape (10, 25)\n",
      "The sum of the product matrix is 1213.243898\n"
     ]
    }
   ],
   "source": [
    "# Question 3\n",
    "a = np.random.rand(10,20)\n",
    "b = np.random.rand(20,25)\n",
    "c = np.dot(a,b)\n",
    "print(\"The matrix multiplication of matrix a and matrix b is: \")\n",
    "print(c)\n",
    "print(\"The product matrix is of shape\", end = ' ')\n",
    "print(c.shape)\n",
    "print(\"The sum of the product matrix is %f\"%c.sum())"
   ]
  },
  {
   "cell_type": "code",
   "execution_count": 7,
   "metadata": {
    "collapsed": true
   },
   "outputs": [],
   "source": [
    "# Question 4\n",
    "import numpy as np\n",
    "import math\n",
    "a = np.arange(10).reshape(10,1)\n",
    "#print (a)\n",
    "def f(x):\n",
    "    return 1/(1 + np.exp(-x))\n",
    "\n",
    "\n",
    "re=np.apply_along_axis(f,0,a)\n",
    "\n",
    "\n",
    "    "
   ]
  },
  {
   "cell_type": "code",
   "execution_count": 8,
   "metadata": {},
   "outputs": [
    {
     "data": {
      "text/plain": [
       "array([[ 0.5       ],\n",
       "       [ 0.73105858],\n",
       "       [ 0.88079708],\n",
       "       [ 0.95257413],\n",
       "       [ 0.98201379],\n",
       "       [ 0.99330715],\n",
       "       [ 0.99752738],\n",
       "       [ 0.99908895],\n",
       "       [ 0.99966465],\n",
       "       [ 0.99987661]])"
      ]
     },
     "execution_count": 8,
     "metadata": {},
     "output_type": "execute_result"
    }
   ],
   "source": [
    "re"
   ]
  },
  {
   "cell_type": "code",
   "execution_count": 9,
   "metadata": {},
   "outputs": [
    {
     "data": {
      "text/plain": [
       "(10, 1)"
      ]
     },
     "execution_count": 9,
     "metadata": {},
     "output_type": "execute_result"
    }
   ],
   "source": [
    "re.shape"
   ]
  },
  {
   "cell_type": "code",
   "execution_count": 13,
   "metadata": {},
   "outputs": [
    {
     "data": {
      "text/plain": [
       "array([[0],\n",
       "       [1],\n",
       "       [2],\n",
       "       [3],\n",
       "       [4],\n",
       "       [5],\n",
       "       [6],\n",
       "       [7],\n",
       "       [8],\n",
       "       [9]])"
      ]
     },
     "execution_count": 13,
     "metadata": {},
     "output_type": "execute_result"
    }
   ],
   "source": [
    "a = np.arange(10).reshape(10,1)\n",
    "a"
   ]
  },
  {
   "cell_type": "code",
   "execution_count": 10,
   "metadata": {
    "collapsed": true
   },
   "outputs": [],
   "source": [
    "# Question 4\n",
    "import numpy as np\n",
    "import math\n",
    "a = np.arange(10).reshape(10,1)\n",
    "#print (a)\n",
    "def f(x):\n",
    "    return 1/(1 + math.exp(-x))\n",
    "\n",
    "\n",
    "re=np.apply_along_axis(f,1,a)\n",
    "\n",
    "\n",
    "    "
   ]
  },
  {
   "cell_type": "code",
   "execution_count": 11,
   "metadata": {},
   "outputs": [
    {
     "data": {
      "text/plain": [
       "array([ 0.5       ,  0.73105858,  0.88079708,  0.95257413,  0.98201379,\n",
       "        0.99330715,  0.99752738,  0.99908895,  0.99966465,  0.99987661])"
      ]
     },
     "execution_count": 11,
     "metadata": {},
     "output_type": "execute_result"
    }
   ],
   "source": [
    "re"
   ]
  },
  {
   "cell_type": "code",
   "execution_count": 12,
   "metadata": {},
   "outputs": [
    {
     "data": {
      "text/plain": [
       "(10,)"
      ]
     },
     "execution_count": 12,
     "metadata": {},
     "output_type": "execute_result"
    }
   ],
   "source": [
    "re.shape"
   ]
  },
  {
   "cell_type": "markdown",
   "metadata": {
    "collapsed": true
   },
   "source": [
    "### "
   ]
  }
 ],
 "metadata": {
  "kernelspec": {
   "display_name": "Python 3",
   "language": "python",
   "name": "python3"
  },
  "language_info": {
   "codemirror_mode": {
    "name": "ipython",
    "version": 3
   },
   "file_extension": ".py",
   "mimetype": "text/x-python",
   "name": "python",
   "nbconvert_exporter": "python",
   "pygments_lexer": "ipython3",
   "version": "3.6.3"
  }
 },
 "nbformat": 4,
 "nbformat_minor": 2
}
