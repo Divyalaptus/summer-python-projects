{
 "cells": [
  {
   "cell_type": "code",
   "execution_count": 15,
   "metadata": {},
   "outputs": [
    {
     "name": "stdout",
     "output_type": "stream",
     "text": [
      "0.306 0.167 0.056\n",
      "The probablity of p(B/A) is 0.030562\n"
     ]
    }
   ],
   "source": [
    "# Question 1\n",
    "# function to calculate p(B/A)\n",
    "def f(p_a,p_b,p_ab):\n",
    "    return p_ab*p_b/p_a\n",
    "\n",
    "p_a = round(11/36,3)\n",
    "p_b = round(6/36,3)\n",
    "p_ab = round(2/36,3)\n",
    "\n",
    "\n",
    "print(p_a,p_b,p_ab)\n",
    "print(\"The probablity of p(B/A) is %f\"%f(p_a,p_b,p_ab))"
   ]
  },
  {
   "cell_type": "markdown",
   "metadata": {},
   "source": [
    "#Question 2\n",
    "p(I) = p(II) = 1/2 probablity of choosing the bag\n",
    "p(A/I) = 6/10 probablity of choosing the black ball from first bag\n",
    "p(A/II) = 3/7 probablity of choosing the black ball from second bag\n",
    "\n",
    "p(I/A) = 0.5833333333333334 probablity of choosing the first bag given that the ball chosen in black\n"
   ]
  },
  {
   "cell_type": "markdown",
   "metadata": {},
   "source": [
    "# Question 3\n",
    "E = the man reports 4\n",
    "p(s1) = probablity that 4 actually occurs = 1/6\n",
    "p(s2) = probablity that 4 does not occurs = 5/6\n",
    "p(E/s1) = probablity man reports 4 when 4 has occured = 3/4\n",
    "p(E/s2) = probablity that man reports 4 when 4 has not occured = 1/4\n",
    "appling bayes theorem\n",
    "p(s1/E) = 3/8 probablity that 4 has occured when man has reported 4"
   ]
  },
  {
   "cell_type": "code",
   "execution_count": null,
   "metadata": {
    "collapsed": true
   },
   "outputs": [],
   "source": []
  }
 ],
 "metadata": {
  "kernelspec": {
   "display_name": "Python 3",
   "language": "python",
   "name": "python3"
  },
  "language_info": {
   "codemirror_mode": {
    "name": "ipython",
    "version": 3
   },
   "file_extension": ".py",
   "mimetype": "text/x-python",
   "name": "python",
   "nbconvert_exporter": "python",
   "pygments_lexer": "ipython3",
   "version": "3.6.3"
  }
 },
 "nbformat": 4,
 "nbformat_minor": 2
}
